{
  "nbformat": 4,
  "nbformat_minor": 0,
  "metadata": {
    "colab": {
      "name": "SIGNS classification.ipynb",
      "provenance": [],
      "collapsed_sections": []
    },
    "kernelspec": {
      "name": "python3",
      "display_name": "Python 3"
    },
    "accelerator": "GPU"
  },
  "cells": [
    {
      "cell_type": "markdown",
      "metadata": {
        "id": "nejE9AbktBEN",
        "colab_type": "text"
      },
      "source": [
        "#### Building and training ConvNet for classifying SIGNS dataset using Tensorflow\n",
        "\n",
        "1) Implementing helper functions which will be used later when training.\n",
        "2) Implementing ConvNet using Tensorflow\n"
      ]
    },
    {
      "cell_type": "markdown",
      "metadata": {
        "id": "ksgJhPUltGl7",
        "colab_type": "text"
      },
      "source": [
        "Lets start by loading packages"
      ]
    },
    {
      "cell_type": "code",
      "metadata": {
        "id": "ZBI50HMFtEpA",
        "colab_type": "code",
        "colab": {}
      },
      "source": [
        "import math\n",
        "import numpy as np\n",
        "import h5py\n",
        "import matplotlib.pyplot as plt\n",
        "import scipy\n",
        "from PIL import Image\n",
        "from scipy import ndimage\n",
        "import tensorflow as tf\n",
        "from tensorflow.python.framework import ops\n",
        "import pandas as pd\n",
        "\n",
        "%matplotlib inline\n",
        "np.random.seed(1)"
      ],
      "execution_count": 0,
      "outputs": []
    },
    {
      "cell_type": "markdown",
      "metadata": {
        "id": "rSVjyc8ytNWJ",
        "colab_type": "text"
      },
      "source": [
        "Upload training and testing files"
      ]
    },
    {
      "cell_type": "code",
      "metadata": {
        "id": "4hb50gvYtLNL",
        "colab_type": "code",
        "colab": {
          "resources": {
            "http://localhost:8080/nbextensions/google.colab/files.js": {
              "data": "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",
              "ok": true,
              "headers": [
                [
                  "content-type",
                  "application/javascript"
                ]
              ],
              "status": 200,
              "status_text": ""
            }
          },
          "base_uri": "https://localhost:8080/",
          "height": 108
        },
        "outputId": "8e4718ef-6bef-44ae-d72d-b1397f1bbeeb"
      },
      "source": [
        "from google.colab import files\n",
        "files.upload()"
      ],
      "execution_count": 3,
      "outputs": [
        {
          "output_type": "display_data",
          "data": {
            "text/html": [
              "\n",
              "     <input type=\"file\" id=\"files-fd9cc30e-a145-436b-829d-7f94dfff41a6\" name=\"files[]\" multiple disabled />\n",
              "     <output id=\"result-fd9cc30e-a145-436b-829d-7f94dfff41a6\">\n",
              "      Upload widget is only available when the cell has been executed in the\n",
              "      current browser session. Please rerun this cell to enable.\n",
              "      </output>\n",
              "      <script src=\"/nbextensions/google.colab/files.js\"></script> "
            ],
            "text/plain": [
              "<IPython.core.display.HTML object>"
            ]
          },
          "metadata": {
            "tags": []
          }
        },
        {
          "output_type": "stream",
          "text": [
            "Saving test_signs.h5 to test_signs.h5\n",
            "Saving train_signs.h5 to train_signs.h5\n"
          ],
          "name": "stdout"
        }
      ]
    },
    {
      "cell_type": "markdown",
      "metadata": {
        "id": "ElC7X6TvxS_9",
        "colab_type": "text"
      },
      "source": [
        "Lets load signs dataset"
      ]
    },
    {
      "cell_type": "code",
      "metadata": {
        "id": "ZYeN5p1VxDHX",
        "colab_type": "code",
        "colab": {}
      },
      "source": [
        "# Function to load the dataset\n",
        "def load_dataset():\n",
        "    train_dataset = h5py.File('/content/train_signs.h5', \"r\")\n",
        "    \n",
        "   \n",
        "    train_set_x_orig = np.array(train_dataset[\"train_set_x\"][:]) # your train set features\n",
        "    train_set_y_orig = np.array(train_dataset[\"train_set_y\"][:]) # your train set labels\n",
        "\n",
        "    test_dataset = h5py.File('/content/test_signs.h5', \"r\")\n",
        "    test_set_x_orig = np.array(test_dataset[\"test_set_x\"][:]) # your test set features\n",
        "    test_set_y_orig = np.array(test_dataset[\"test_set_y\"][:]) # your test set labels\n",
        "\n",
        "    classes = np.array(test_dataset[\"list_classes\"][:]) # the list of classes\n",
        "    \n",
        "    train_set_y_orig = train_set_y_orig.reshape((1, train_set_y_orig.shape[0]))\n",
        "    test_set_y_orig = test_set_y_orig.reshape((1, test_set_y_orig.shape[0]))\n",
        "    \n",
        "    return train_set_x_orig, train_set_y_orig, test_set_x_orig, test_set_y_orig, classes"
      ],
      "execution_count": 0,
      "outputs": []
    },
    {
      "cell_type": "code",
      "metadata": {
        "id": "P_VXFQ1yxefb",
        "colab_type": "code",
        "colab": {}
      },
      "source": [
        "X_train_orig, Y_train_orig, X_test_orig, Y_test_orig, classes = load_dataset()"
      ],
      "execution_count": 0,
      "outputs": []
    },
    {
      "cell_type": "markdown",
      "metadata": {
        "id": "pXFZesSRAJ3n",
        "colab_type": "text"
      },
      "source": [
        "Lets see some images to get an understanding of data"
      ]
    },
    {
      "cell_type": "code",
      "metadata": {
        "id": "iy3m0df_xn3E",
        "colab_type": "code",
        "colab": {
          "base_uri": "https://localhost:8080/",
          "height": 286
        },
        "outputId": "b9095207-4b72-4b14-c4c4-1c5891f2ba0c"
      },
      "source": [
        "# Example of image\n",
        "index = 34\n",
        "plt.imshow(X_train_orig[index])\n",
        "print('Image is %s' %str(np.squeeze(Y_train_orig[:,34])))"
      ],
      "execution_count": 36,
      "outputs": [
        {
          "output_type": "stream",
          "text": [
            "Image is 0\n"
          ],
          "name": "stdout"
        },
        {
          "output_type": "display_data",
          "data": {
            "image/png": "[encoded data removed]",
            "text/plain": [
              "<Figure size 432x288 with 1 Axes>"
            ]
          },
          "metadata": {
            "tags": []
          }
        }
      ]
    },
    {
      "cell_type": "markdown",
      "metadata": {
        "id": "r5sH8vAGARw4",
        "colab_type": "text"
      },
      "source": [
        "Function to implement one hot encoding of y values"
      ]
    },
    {
      "cell_type": "code",
      "metadata": {
        "id": "-8-kGS29ANih",
        "colab_type": "code",
        "colab": {}
      },
      "source": [
        "def convert_to_one_hot(Y, C):\n",
        "    Y = np.eye(C)[Y.reshape(-1)].T\n",
        "    return Y"
      ],
      "execution_count": 0,
      "outputs": []
    },
    {
      "cell_type": "markdown",
      "metadata": {
        "id": "RfpPwLStB6wf",
        "colab_type": "text"
      },
      "source": [
        "Lets look at shapes of data and normalize them"
      ]
    },
    {
      "cell_type": "code",
      "metadata": {
        "id": "fISDfffYAXK_",
        "colab_type": "code",
        "colab": {
          "base_uri": "https://localhost:8080/",
          "height": 119
        },
        "outputId": "0d7145c3-0585-49cc-a415-362108d238d4"
      },
      "source": [
        "X_train = X_train_orig/255.\n",
        "X_test = X_test_orig/255.\n",
        "\n",
        "Y_train = convert_to_one_hot(Y_train_orig, 6).T\n",
        "Y_test = convert_to_one_hot(Y_test_orig, 6).T\n",
        "\n",
        "print (\"number of training examples = \" + str(X_train.shape[0]))\n",
        "print (\"number of test examples = \" + str(X_test.shape[0]))\n",
        "\n",
        "print (\"X_train shape: \" + str(X_train.shape))\n",
        "print (\"Y_train shape: \" + str(Y_train.shape))\n",
        "print (\"X_test shape: \" + str(X_test.shape))\n",
        "print (\"Y_test shape: \" + str(Y_test.shape))"
      ],
      "execution_count": 68,
      "outputs": [
        {
          "output_type": "stream",
          "text": [
            "number of training examples = 1080\n",
            "number of test examples = 120\n",
            "X_train shape: (1080, 64, 64, 3)\n",
            "Y_train shape: (1080, 6)\n",
            "X_test shape: (120, 64, 64, 3)\n",
            "Y_test shape: (120, 6)\n"
          ],
          "name": "stdout"
        }
      ]
    },
    {
      "cell_type": "markdown",
      "metadata": {
        "id": "vyysE9ztCC4J",
        "colab_type": "text"
      },
      "source": [
        "#### 1.1 Create placeholders"
      ]
    },
    {
      "cell_type": "markdown",
      "metadata": {
        "id": "-3C6KfxPCICz",
        "colab_type": "text"
      },
      "source": [
        "TensorFlow requires that we create placeholders for the input data that will be fed into the model when running the session."
      ]
    },
    {
      "cell_type": "code",
      "metadata": {
        "id": "wjfUOqSlB92C",
        "colab_type": "code",
        "colab": {}
      },
      "source": [
        "def create_placeholders(n_H, n_W, n_C, n_Y):\n",
        "  '''\n",
        "  Create place holders for tensorflow session\n",
        "  \n",
        "  Arguments:\n",
        "  n_H -- scalar, height of input image\n",
        "  n_W -- scalar, width of input image\n",
        "  n_C -- scalar, number of channels in input image\n",
        "  n_Y -- scalar, number of classes\n",
        "  \n",
        "  Returns:\n",
        "  X -- placeholder for the data input, of shape [None, n_H, n_W, n_C] and dtype 'float'\n",
        "  Y -- placeholder for the input labels, of shape [None, n_Y] and dtype 'float'\n",
        "  '''\n",
        "  \n",
        "  X = tf.placeholder(dtype = 'float', shape = [None, n_H, n_W, n_C])\n",
        "  Y = tf.placeholder(dtype = 'float', shape = [None, n_Y])\n",
        "  \n",
        "  return X, Y  "
      ],
      "execution_count": 0,
      "outputs": []
    },
    {
      "cell_type": "markdown",
      "metadata": {
        "id": "Nzr8WC-7FcZK",
        "colab_type": "text"
      },
      "source": [
        "#### 1.2 Intialize parameters"
      ]
    },
    {
      "cell_type": "markdown",
      "metadata": {
        "id": "JzuOEBS_I-wa",
        "colab_type": "text"
      },
      "source": [
        "Lets intialize parameters for the different channels I will use in convolutional layers. I will be building 2 layers of convolutional layers."
      ]
    },
    {
      "cell_type": "code",
      "metadata": {
        "id": "1QETcT25EM7D",
        "colab_type": "code",
        "colab": {}
      },
      "source": [
        "def initialize_parameters():\n",
        "  '''\n",
        "  Initializes weight parameters to build a neural network with tensorflow.\n",
        "  Shapes are W1: [4,4,3,8]\n",
        "             W2: [2,2,8,16]\n",
        "             \n",
        "  Returns -- a dictionary of tensors containing W1, W2\n",
        "  '''\n",
        "  tf.set_random_seed(1)                 \n",
        "  \n",
        "  W1 = tf.get_variable('W1', [4,4,3,8], initializer=tf.contrib.layers.xavier_initializer(seed = 0))\n",
        "  W2 = tf.get_variable('W2', [2,2,8,16], initializer=tf.contrib.layers.xavier_initializer(seed = 0))\n",
        "  \n",
        "  parameters = {'W1':W1,\n",
        "                'W2':W2}\n",
        "  \n",
        "  return parameters\n"
      ],
      "execution_count": 0,
      "outputs": []
    },
    {
      "cell_type": "markdown",
      "metadata": {
        "id": "vcbQdkHoMMiM",
        "colab_type": "text"
      },
      "source": [
        "#### 1.3 Forward propagation"
      ]
    },
    {
      "cell_type": "markdown",
      "metadata": {
        "id": "XnPcmefsMQVB",
        "colab_type": "text"
      },
      "source": [
        "I will be implementing Conv2d -> Relu -> Maxpool -> Conv2d -> Relu -> Maxpool -> Flatten -> Fullyconnected layers.\n",
        "Depending on training and validation accuracies I will come back and change architecture or number of epochs or learning rate etc."
      ]
    },
    {
      "cell_type": "code",
      "metadata": {
        "id": "ylbj32CDKZco",
        "colab_type": "code",
        "colab": {}
      },
      "source": [
        "def forward_propagation(X, parameters):\n",
        "  \"\"\"\n",
        "  Implements the forward propagation for the model:\n",
        "  Conv2d -> Relu -> Maxpool -> Conv2d -> Relu -> Maxpool -> Flatten -> Fullyconnected\n",
        "  \n",
        "  Arguments:\n",
        "  X -- input dataset placeholder, of shape (inputsize, number of examples)\n",
        "  parameters -- python dictionary containing parameters 'W1', 'W2'\n",
        "  \n",
        "  Returns:\n",
        "  Z3 -- output of last Linear unit\n",
        "  \"\"\"\n",
        "  \n",
        "  # Retrieve parameters from dictionary 'parameters'\n",
        "  W1 = parameters['W1']\n",
        "  W2 = parameters['W2']\n",
        "  \n",
        "  # CONV2D: stride of 1, padding 'SAME'\n",
        "  Z1 = tf.nn.conv2d(X, W1, strides = [1,1,1,1], padding = 'SAME')\n",
        "  # RELU\n",
        "  A1 = tf.nn.relu(Z1)\n",
        "  # MAXPOOL: window 8x8, sride 8, padding 'SAME'\n",
        "  P1 = tf.nn.max_pool(A1, ksize = [1,8,8,1], strides = [1,8,8,1], padding = 'SAME')\n",
        "  # CONV2D: filters W2, stride 1, padding 'SAME'\n",
        "  Z2 = tf.nn.conv2d(P1, W2, strides = [1,1,1,1], padding = 'SAME')\n",
        "  # RELU\n",
        "  A2 = tf.nn.relu(Z2)\n",
        "  # MAXPOOL: window 4x4, stride 4, padding 'SAME'\n",
        "  P2 = tf.nn.max_pool(A2, ksize = [1,4,4,1], strides = [1,4,4,1], padding = 'SAME')\n",
        "  # FLATTEN\n",
        "  P2 = tf.contrib.layers.flatten(P2)\n",
        "  # FULLY-CONNECTED without non-linear activation function.\n",
        "  # 6 neurons in output layer.\n",
        "  Z3 = tf.contrib.layers.fully_connected(P2, 6, activation_fn=None)\n",
        "  \n",
        "  return Z3"
      ],
      "execution_count": 0,
      "outputs": []
    },
    {
      "cell_type": "markdown",
      "metadata": {
        "id": "u_Wad0VrQSqI",
        "colab_type": "text"
      },
      "source": [
        "#### 1.4 Compute cost"
      ]
    },
    {
      "cell_type": "code",
      "metadata": {
        "id": "PQm83ZRKPlKQ",
        "colab_type": "code",
        "colab": {}
      },
      "source": [
        "def compute_cost(Z3, Y):\n",
        "  \"\"\"\n",
        "  Computes the cost\n",
        "    \n",
        "  Arguments:\n",
        "  Z3 -- output of forward propagation (output of the last LINEAR unit), of shape (number of examples, 6)\n",
        "  Y -- \"true\" labels vector placeholder, same shape as Z3\n",
        "    \n",
        "  Returns:\n",
        "  cost - Tensor of the cost function\n",
        "  \"\"\"\n",
        "   \n",
        "  cost = tf.reduce_mean(tf.nn.softmax_cross_entropy_with_logits(logits = Z3, labels = Y))\n",
        "    \n",
        "  return cost"
      ],
      "execution_count": 0,
      "outputs": []
    },
    {
      "cell_type": "markdown",
      "metadata": {
        "id": "c-PBJXjvRVL7",
        "colab_type": "text"
      },
      "source": [
        "Let's write a function to create a list of random minibatches. Minibatches are \n",
        "subset of original data which will be sending to model for training."
      ]
    },
    {
      "cell_type": "code",
      "metadata": {
        "id": "lKf-PPfGRpn3",
        "colab_type": "code",
        "colab": {}
      },
      "source": [
        "def random_mini_batches(X, Y, mini_batch_size = 64, seed = 0):\n",
        "  \"\"\"\n",
        "  Creates a list of random minibatches from (X, Y)\n",
        "    \n",
        "  Arguments:\n",
        "  X -- input data, of shape (input size, number of examples) (m, Hi, Wi, Ci)\n",
        "  Y -- true \"label\" vector, of shape (1, number of examples) (m, n_y)\n",
        "  mini_batch_size - size of the mini-batches, integer\n",
        "    \n",
        "  Returns:\n",
        "  mini_batches -- list of synchronous (mini_batch_X, mini_batch_Y)\n",
        "  \"\"\"\n",
        "    \n",
        "  m = X.shape[0]                  # number of training examples\n",
        "  mini_batches = []\n",
        "  np.random.seed(seed)\n",
        "    \n",
        "  # Step 1: Shuffle (X, Y)\n",
        "  permutation = list(np.random.permutation(m))\n",
        "  shuffled_X = X[permutation,:,:,:]\n",
        "  shuffled_Y = Y[permutation,:]\n",
        "\n",
        "  # Step 2: Partition (shuffled_X, shuffled_Y). Minus the end case.\n",
        "  num_complete_minibatches = math.floor(m/mini_batch_size) # number of mini batches of size mini_batch_size in your partitionning\n",
        "  for k in range(0, num_complete_minibatches):\n",
        "    mini_batch_X = shuffled_X[k * mini_batch_size : k * mini_batch_size + mini_batch_size,:,:,:]\n",
        "    mini_batch_Y = shuffled_Y[k * mini_batch_size : k * mini_batch_size + mini_batch_size,:]\n",
        "    mini_batch = (mini_batch_X, mini_batch_Y)\n",
        "    mini_batches.append(mini_batch)\n",
        "    \n",
        "    # Handling the end case (last mini-batch < mini_batch_size)\n",
        "  if m % mini_batch_size != 0:\n",
        "    mini_batch_X = shuffled_X[num_complete_minibatches * mini_batch_size : m,:,:,:]\n",
        "    mini_batch_Y = shuffled_Y[num_complete_minibatches * mini_batch_size : m,:]\n",
        "    mini_batch = (mini_batch_X, mini_batch_Y)\n",
        "    mini_batches.append(mini_batch)\n",
        "    \n",
        "  return mini_batches"
      ],
      "execution_count": 0,
      "outputs": []
    },
    {
      "cell_type": "markdown",
      "metadata": {
        "id": "Ye1jrhvXfkCQ",
        "colab_type": "text"
      },
      "source": [
        "#### 1.5 Model\n",
        "\n",
        "Now I will merge all the helper functions implemented above to build a model. Will train on SIGNS dataset.\n",
        "\n",
        "Function below will\n",
        "\n",
        "1) Create placeholders\n",
        "2) Initialize parameters\n",
        "3) Forward propagate\n",
        "4) Compute the cost\n",
        "5) Create an optimizer\n",
        "\n",
        "Finally I will create a session and run a loop for num_epochs, get mini_batches, and then for each mini_batch I will optimize the function\n"
      ]
    },
    {
      "cell_type": "code",
      "metadata": {
        "id": "3GyE4RZ7cPzt",
        "colab_type": "code",
        "colab": {}
      },
      "source": [
        "def model(X_train, Y_train, X_test, Y_test, learning_rate = 0.009,\n",
        "          num_epochs = 100, minibatch_size = 64, print_cost = True):\n",
        "  \n",
        "  \"\"\"\n",
        "  Implements a three-layer ConvNet in Tensorflow:\n",
        "  CONV2D -> RELU -> MAXPOOL -> CONV2D -> RELU -> MAXPOOL -> FLATTEN -> FULLYCONNECTED\n",
        "    \n",
        "  Arguments:\n",
        "  X_train -- training set, of shape (None, 64, 64, 3)\n",
        "  Y_train -- test set, of shape (None, n_y = 6)\n",
        "  X_test -- training set, of shape (None, 64, 64, 3)\n",
        "  Y_test -- test set, of shape (None, n_y = 6)\n",
        "  learning_rate -- learning rate of the optimization\n",
        "  num_epochs -- number of epochs of the optimization loop\n",
        "  minibatch_size -- size of a minibatch\n",
        "  print_cost -- True to print the cost every 100 epochs\n",
        "    \n",
        "  Returns:\n",
        "  train_accuracy -- real number, accuracy on the train set (X_train)\n",
        "  test_accuracy -- real number, testing accuracy on the test set (X_test)\n",
        "  parameters -- parameters learnt by the model. They can then be used to predict.\n",
        "  \"\"\"\n",
        "    \n",
        "  ops.reset_default_graph()                         # to be able to rerun the model without overwriting tf variables\n",
        "  tf.set_random_seed(1)                             # to keep results consistent (tensorflow seed)\n",
        "  seed = 3                                          # to keep results consistent (numpy seed)\n",
        "  (m, n_H, n_W, n_C) = X_train.shape\n",
        "  n_Y = Y_train.shape[1]        \n",
        "  costs = []                                        # To keep track of the cost\n",
        "    \n",
        "  # Create Placeholders of the correct shape\n",
        "  X, Y = create_placeholders(n_H, n_W, n_C, n_Y)\n",
        "    \n",
        "  # Initialize parameters\n",
        "  parameters = initialize_parameters()\n",
        "    \n",
        "  # Forward propagation: Build the forward propagation in the tensorflow graph\n",
        "  Z = forward_propagation(X, parameters)\n",
        "    \n",
        "  # Cost function: Add cost function to tensorflow graph\n",
        "  cost = compute_cost(Z, Y)\n",
        "    \n",
        "  # Backpropagation: Define the tensorflow optimizer. Use an AdamOptimizer that minimizes the cost.\n",
        "  optimizer = tf.train.AdamOptimizer(learning_rate=learning_rate).minimize(cost)\n",
        "    \n",
        "  # Initialize all the variables globally\n",
        "  init = tf.global_variables_initializer()\n",
        "    \n",
        "  # Start the session to compute the tensorflow graph\n",
        "  with tf.Session() as sess:\n",
        "      \n",
        "    # Run the initialization\n",
        "    sess.run(init)\n",
        "    \n",
        "    # Training loop\n",
        "    for epoch in range(num_epochs):\n",
        "      \n",
        "      minibatch_cost = 0.\n",
        "      num_minibatches = int(m / minibatch_size)      # number of minibatches of size minibatch_size in the train set\n",
        "      \n",
        "      seed = seed + 1\n",
        "      minibatches = random_mini_batches(X_train, Y_train, minibatch_size, seed)\n",
        "      \n",
        "      for minibatch in minibatches:\n",
        "        \n",
        "        # Select a minibatch\n",
        "        (minibatch_X, minibatch_Y) = minibatch\n",
        "        # IMPORTANT: The line that runs the graph on a minibatch.\n",
        "        # Run the session to execute the optimizer and the cost, the feedict should contain a minibatch for (X,Y).\n",
        "        ### START CODE HERE ### (1 line)\n",
        "        _ , temp_cost = sess.run([optimizer, cost], feed_dict={X:minibatch_X, Y:minibatch_Y})\n",
        "        \n",
        "        minibatch_cost += temp_cost/num_minibatches\n",
        "        \n",
        "      # Print the cost every epoch\n",
        "      if print_cost == True and epoch % 5 == 0:\n",
        "        print (\"Cost after epoch %i: %f\" % (epoch, minibatch_cost))\n",
        "      if print_cost == True and epoch % 1 == 0:\n",
        "        costs.append(minibatch_cost)\n",
        "        \n",
        "    # plot the cost\n",
        "    plt.plot(np.squeeze(costs))\n",
        "    plt.ylabel('cost')\n",
        "    plt.xlabel('iterations (per tens)')\n",
        "    plt.title(\"Learning rate =\" + str(learning_rate))\n",
        "    plt.show()\n",
        "    \n",
        "    # Calculate the correct predictions\n",
        "    predict_op = tf.argmax(Z, 1)\n",
        "    correct_prediction = tf.equal(predict_op, tf.argmax(Y, 1))\n",
        "    \n",
        "    # Calculate accuracy on the test set\n",
        "    accuracy = tf.reduce_mean(tf.cast(correct_prediction, \"float\"))\n",
        "    train_accuracy = accuracy.eval({X: X_train, Y: Y_train})\n",
        "    test_accuracy = accuracy.eval({X:X_test, Y:Y_test})\n",
        "    \n",
        "    print(\"Train Accuracy:\", train_accuracy)\n",
        "    print(\"Test Accuracy:\", test_accuracy)\n",
        "    \n",
        "    return train_accuracy, test_accuracy, parameters\n",
        "    \n",
        "        "
      ],
      "execution_count": 0,
      "outputs": []
    },
    {
      "cell_type": "markdown",
      "metadata": {
        "id": "QNw345CM_Quv",
        "colab_type": "text"
      },
      "source": [
        "Run the below cell to train the model for 200 epochs."
      ]
    },
    {
      "cell_type": "code",
      "metadata": {
        "id": "0FuR4M5FcVxB",
        "colab_type": "code",
        "colab": {
          "base_uri": "https://localhost:8080/",
          "height": 1000
        },
        "outputId": "bdbf7ae2-e510-479a-acc2-637d262bb79c"
      },
      "source": [
        "_,_,parameters = model(X_train,Y_train,X_test,Y_test,num_epochs=200)"
      ],
      "execution_count": 76,
      "outputs": [
        {
          "output_type": "stream",
          "text": [
            "Cost after epoch 0: 1.921332\n",
            "Cost after epoch 5: 1.904156\n",
            "Cost after epoch 10: 1.904309\n",
            "Cost after epoch 15: 1.904477\n",
            "Cost after epoch 20: 1.901876\n",
            "Cost after epoch 25: 1.784094\n",
            "Cost after epoch 30: 1.687814\n",
            "Cost after epoch 35: 1.617914\n",
            "Cost after epoch 40: 1.588563\n",
            "Cost after epoch 45: 1.564673\n",
            "Cost after epoch 50: 1.551985\n",
            "Cost after epoch 55: 1.512204\n",
            "Cost after epoch 60: 1.488463\n",
            "Cost after epoch 65: 1.368796\n",
            "Cost after epoch 70: 1.281402\n",
            "Cost after epoch 75: 1.205087\n",
            "Cost after epoch 80: 1.119874\n",
            "Cost after epoch 85: 1.103765\n",
            "Cost after epoch 90: 1.051161\n",
            "Cost after epoch 95: 1.012231\n",
            "Cost after epoch 100: 1.018780\n",
            "Cost after epoch 105: 0.986617\n",
            "Cost after epoch 110: 0.980134\n",
            "Cost after epoch 115: 0.927904\n",
            "Cost after epoch 120: 0.916281\n",
            "Cost after epoch 125: 0.898608\n",
            "Cost after epoch 130: 0.866157\n",
            "Cost after epoch 135: 0.854542\n",
            "Cost after epoch 140: 0.866672\n",
            "Cost after epoch 145: 0.813396\n",
            "Cost after epoch 150: 0.805220\n",
            "Cost after epoch 155: 0.797596\n",
            "Cost after epoch 160: 0.796092\n",
            "Cost after epoch 165: 0.786342\n",
            "Cost after epoch 170: 0.783298\n",
            "Cost after epoch 175: 0.777091\n",
            "Cost after epoch 180: 0.789667\n",
            "Cost after epoch 185: 0.754298\n",
            "Cost after epoch 190: 0.737498\n",
            "Cost after epoch 195: 0.750885\n"
          ],
          "name": "stdout"
        },
        {
          "output_type": "display_data",
          "data": {
            "image/png": "[encoded data removed]",
            "text/plain": [
              "<Figure size 432x288 with 1 Axes>"
            ]
          },
          "metadata": {
            "tags": []
          }
        },
        {
          "output_type": "stream",
          "text": [
            "Train Accuracy: 0.73888886\n",
            "Test Accuracy: 0.60833335\n"
          ],
          "name": "stdout"
        }
      ]
    },
    {
      "cell_type": "markdown",
      "metadata": {
        "id": "8lTG792AHW5V",
        "colab_type": "text"
      },
      "source": [
        "By looking at cost graph, its getting flattened after 200 epochs. So running for more epochs would not help us. Also train accuracy is around 73% and test is 60%. So my model is suffering from both bias and variance"
      ]
    },
    {
      "cell_type": "markdown",
      "metadata": {
        "id": "9S9UY33HIZ2P",
        "colab_type": "text"
      },
      "source": [
        "#### Solving bias problem"
      ]
    },
    {
      "cell_type": "markdown",
      "metadata": {
        "id": "pZoEBRAeNjm2",
        "colab_type": "text"
      },
      "source": [
        "Lets build bigger network than previously built"
      ]
    },
    {
      "cell_type": "code",
      "metadata": {
        "id": "K3_dyvVqIY4f",
        "colab_type": "code",
        "colab": {}
      },
      "source": [
        "def initialize_parameters():\n",
        "  '''\n",
        "  Initializes weight parameters to build a neural network with tensorflow.\n",
        "  Shapes are W1: [4,4,3,8]\n",
        "             W2: [2,2,8,16]\n",
        "             \n",
        "  Returns -- a dictionary of tensors containing W1, W2\n",
        "  '''\n",
        "  tf.set_random_seed(1)                 \n",
        "  \n",
        "  W1 = tf.get_variable('W1', [4,4,3,8], initializer=tf.contrib.layers.xavier_initializer(seed = 0))\n",
        "  W2 = tf.get_variable('W2', [2,2,8,16], initializer=tf.contrib.layers.xavier_initializer(seed = 0))\n",
        "  W3 = tf.get_variable('W3', [2,2,16,32], initializer=tf.contrib.layers.xavier_initializer(seed = 0))\n",
        "  W4 = tf.get_variable('W4', [2,2,32,64], initializer=tf.contrib.layers.xavier_initializer(seed = 0))\n",
        "\n",
        "\n",
        "  \n",
        "  parameters = {'W1':W1,\n",
        "                'W2':W2,\n",
        "                'W3':W3,\n",
        "                'W4':W4}\n",
        "  \n",
        "  return parameters\n"
      ],
      "execution_count": 0,
      "outputs": []
    },
    {
      "cell_type": "code",
      "metadata": {
        "id": "-QCgbCwodDq9",
        "colab_type": "code",
        "colab": {}
      },
      "source": [
        "def forward_propagation(X, parameters):\n",
        "  \"\"\"\n",
        "  Implements the forward propagation for the model:\n",
        "  Conv2d -> Relu -> Maxpool -> \n",
        "  Conv2d -> Relu -> Maxpool -> \n",
        "  Conv2d -> Relu -> Maxpool ->\n",
        "  Conv2d -> Relu -> Maxpool -> Flatten -> Fullyconnected\n",
        "  \n",
        "  Arguments:\n",
        "  X -- input dataset placeholder, of shape (inputsize, number of examples)\n",
        "  parameters -- python dictionary containing parameters 'W1', 'W2'\n",
        "  \n",
        "  Returns:\n",
        "  Z3 -- output of last Linear unit\n",
        "  \"\"\"\n",
        "  \n",
        "  # Retrieve parameters from dictionary 'parameters'\n",
        "  W1 = parameters['W1']\n",
        "  W2 = parameters['W2']\n",
        "  W3 = parameters['W3']\n",
        "  W4 = parameters['W4']\n",
        "\n",
        "  # CONV2D: stride of 1, padding 'SAME'\n",
        "  Z1 = tf.nn.conv2d(X, W1, strides = [1,1,1,1], padding = 'SAME')\n",
        "  # RELU\n",
        "  A1 = tf.nn.relu(Z1)\n",
        "  # MAXPOOL: window 8x8, sride 8, padding 'SAME'\n",
        "  P1 = tf.nn.max_pool(A1, ksize = [1,2,2,1], strides = [1,2,2,1], padding = 'VALID')\n",
        "  # CONV2D: filters W2, stride 1, padding 'SAME'\n",
        "  Z2 = tf.nn.conv2d(P1, W2, strides = [1,1,1,1], padding = 'SAME')\n",
        "  # RELU\n",
        "  A2 = tf.nn.relu(Z2)\n",
        "  # MAXPOOL: window 4x4, stride 4, padding 'SAME'\n",
        "  P2 = tf.nn.max_pool(A2, ksize = [1,2,2,1], strides = [1,2,2,1], padding = 'VALID')\n",
        "  # CONV2D: stride of 1, padding 'SAME'\n",
        "  Z3 = tf.nn.conv2d(P2, W3, strides = [1,1,1,1], padding = 'VALID')\n",
        "  # RELU\n",
        "  A3 = tf.nn.relu(Z3)\n",
        "  # MAXPOOL: window 4x4, stride 4, padding 'SAME'\n",
        "  P3 = tf.nn.max_pool(A3, ksize = [1,2,2,1], strides = [1,2,2,1], padding = 'VALID')\n",
        "  # CONV2D: stride of 1, padding 'SAME'\n",
        "  Z4 = tf.nn.conv2d(P3, W4, strides = [1,1,1,1], padding = 'VALID')\n",
        "  # RELU\n",
        "  A4 = tf.nn.relu(Z4)\n",
        "  # MAXPOOL: window 4x4, stride 4, padding 'SAME'\n",
        "  P4 = tf.nn.max_pool(A4, ksize = [1,2,2,1], strides = [1,2,2,1], padding = 'VALID')\n",
        "  print(P4.shape)\n",
        "  # FLATTEN\n",
        "  P4 = tf.contrib.layers.flatten(P4)\n",
        "  # FULLY-CONNECTED without non-linear activation function.\n",
        "  # 6 neurons in output layer.\n",
        "  Z = tf.contrib.layers.fully_connected(P4, 6, activation_fn=None)\n",
        "  \n",
        "  return Z"
      ],
      "execution_count": 0,
      "outputs": []
    },
    {
      "cell_type": "code",
      "metadata": {
        "id": "tr9DoIixQquG",
        "colab_type": "code",
        "colab": {
          "base_uri": "https://localhost:8080/",
          "height": 686
        },
        "outputId": "20c001be-1d02-46a3-db7e-5eb188292d54"
      },
      "source": [
        "_,_,parameters = model(X_train,Y_train,X_test,Y_test,num_epochs=100)"
      ],
      "execution_count": 126,
      "outputs": [
        {
          "output_type": "stream",
          "text": [
            "(?, 3, 3, 64)\n",
            "Cost after epoch 0: 1.899868\n",
            "Cost after epoch 5: 0.480988\n",
            "Cost after epoch 10: 0.057787\n",
            "Cost after epoch 15: 0.057408\n",
            "Cost after epoch 20: 0.002708\n",
            "Cost after epoch 25: 0.001951\n",
            "Cost after epoch 30: 0.001842\n",
            "Cost after epoch 35: 0.001787\n",
            "Cost after epoch 40: 0.001738\n",
            "Cost after epoch 45: 0.001698\n",
            "Cost after epoch 50: 0.001658\n",
            "Cost after epoch 55: 0.001616\n",
            "Cost after epoch 60: 0.001575\n",
            "Cost after epoch 65: 0.001747\n",
            "Cost after epoch 70: 0.001492\n",
            "Cost after epoch 75: 0.001450\n",
            "Cost after epoch 80: 0.001404\n",
            "Cost after epoch 85: 0.001361\n",
            "Cost after epoch 90: 0.001317\n",
            "Cost after epoch 95: 0.001269\n"
          ],
          "name": "stdout"
        },
        {
          "output_type": "display_data",
          "data": {
            "image/png": "[encoded data removed]",
            "text/plain": [
              "<Figure size 432x288 with 1 Axes>"
            ]
          },
          "metadata": {
            "tags": []
          }
        },
        {
          "output_type": "stream",
          "text": [
            "Train Accuracy: 1.0\n",
            "Test Accuracy: 0.9166667\n"
          ],
          "name": "stdout"
        }
      ]
    },
    {
      "cell_type": "markdown",
      "metadata": {
        "id": "SktT93aHYgRO",
        "colab_type": "text"
      },
      "source": [
        "Since I saw problem of bias in my model, I went for bigger architecture with smaller filters in both convolutional and max pooling layers. Above we can see huge improvement in accuracies of both training and testing sets. Training accuracy went to 100% from 73%."
      ]
    },
    {
      "cell_type": "markdown",
      "metadata": {
        "id": "VCyl6gQOcZmO",
        "colab_type": "text"
      },
      "source": [
        "#### Solving variance/overfitting problem"
      ]
    },
    {
      "cell_type": "markdown",
      "metadata": {
        "id": "oVx2h5Q-a6W5",
        "colab_type": "text"
      },
      "source": [
        "Sometimes training for more number of epochs can cause model to overfit. Since training cost flattened after 25 epochs, lets run the model for just 25 epochs and see if we can see any improvement in test accuracy."
      ]
    },
    {
      "cell_type": "code",
      "metadata": {
        "id": "L3ZxmTuaQ_g5",
        "colab_type": "code",
        "colab": {
          "base_uri": "https://localhost:8080/",
          "height": 431
        },
        "outputId": "51c6eef1-a11e-433e-d0f1-a6174a0bc4b6"
      },
      "source": [
        "_,_,parameters = model(X_train,Y_train,X_test,Y_test,num_epochs=25)"
      ],
      "execution_count": 123,
      "outputs": [
        {
          "output_type": "stream",
          "text": [
            "(?, 3, 3, 64)\n",
            "Cost after epoch 0: 1.900831\n",
            "Cost after epoch 5: 0.483860\n",
            "Cost after epoch 10: 0.084668\n",
            "Cost after epoch 15: 0.097434\n",
            "Cost after epoch 20: 0.019546\n"
          ],
          "name": "stdout"
        },
        {
          "output_type": "display_data",
          "data": {
            "image/png": "[encoded data removed]",
            "text/plain": [
              "<Figure size 432x288 with 1 Axes>"
            ]
          },
          "metadata": {
            "tags": []
          }
        },
        {
          "output_type": "stream",
          "text": [
            "Train Accuracy: 0.9990741\n",
            "Test Accuracy: 0.94166666\n"
          ],
          "name": "stdout"
        }
      ]
    },
    {
      "cell_type": "markdown",
      "metadata": {
        "id": "MUXu3VAlch5P",
        "colab_type": "text"
      },
      "source": [
        "As seen above by running for lesser number of epochs testing accuracy improved little from 91.6 to 94%"
      ]
    },
    {
      "cell_type": "code",
      "metadata": {
        "id": "xk1OTWMWZ1LP",
        "colab_type": "code",
        "colab": {}
      },
      "source": [
        ""
      ],
      "execution_count": 0,
      "outputs": []
    }
  ]
}